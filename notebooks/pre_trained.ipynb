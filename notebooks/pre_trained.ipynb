{
  "cells": [
    {
      "cell_type": "markdown",
      "metadata": {
        "id": "WnY3fLN2QTRa"
      },
      "source": [
        "# Pre-trained"
      ]
    },
    {
      "cell_type": "markdown",
      "metadata": {
        "id": "sHBiJfAHQaEW"
      },
      "source": []
    },
    {
      "cell_type": "code",
      "execution_count": 2,
      "metadata": {
        "id": "_wVKpElDQQ_j"
      },
      "outputs": [],
      "source": [
        "import torch\n",
        "import torch.nn as nn\n",
        "import torch.optim as optim\n",
        "from torchvision import datasets, transforms\n",
        "from torchvision.models.video import s3d\n",
        "from torch.utils.data import DataLoader\n",
        "import numpy as np\n",
        "from sklearn.metrics import confusion_matrix\n",
        "import matplotlib.pyplot as plt\n",
        "import seaborn as sns\n",
        "import cv2\n",
        "import torch\n",
        "from torchvision import transforms\n",
        "from PIL import Image\n"
      ]
    },
    {
      "cell_type": "code",
      "execution_count": 3,
      "metadata": {
        "id": "0bW3mysVO-zF"
      },
      "outputs": [],
      "source": [
        "\n",
        "# Function to load video frames without transformations\n",
        "def load_video_frames(video_path):\n",
        "    cap = cv2.VideoCapture(video_path)\n",
        "    frames = []\n",
        "    success, frame = cap.read()\n",
        "    while success:\n",
        "        # Convert BGR (OpenCV format) to RGB\n",
        "        frame = cv2.cvtColor(frame, cv2.COLOR_BGR2RGB)\n",
        "        # Convert NumPy array to PIL image\n",
        "        frames.append(Image.fromarray(frame))\n",
        "        success, frame = cap.read()\n",
        "    cap.release()\n",
        "    return frames  # Return the list of PIL images\n",
        "\n",
        "# Function to train the model\n",
        "def train_model(model, train_loader, criterion, optimizer, num_epochs=5):\n",
        "    model.train()\n",
        "    for epoch in range(num_epochs):\n",
        "        running_loss = 0.0\n",
        "        correct = 0\n",
        "        total = 0\n",
        "        for videos, labels in train_loader:\n",
        "            videos, labels = videos.to(device), labels.to(device)\n",
        "            optimizer.zero_grad()\n",
        "            outputs = model(videos)\n",
        "            loss = criterion(outputs, labels)\n",
        "            loss.backward()\n",
        "            optimizer.step()\n",
        "            running_loss += loss.item()\n",
        "            _, preds = torch.max(outputs, 1)\n",
        "            correct += (preds == labels).sum().item()\n",
        "            total += labels.size(0)\n",
        "        print(f\"Epoch [{epoch+1}/{num_epochs}], Loss: {running_loss/len(train_loader)}, Accuracy: {100 * correct / total}%\")\n",
        "\n",
        "# Function to test the model and return predictions and true labels\n",
        "def evaluate_model(model, loader):\n",
        "    model.eval()\n",
        "    all_preds = []\n",
        "    all_labels = []\n",
        "    with torch.no_grad():\n",
        "        for videos, labels in loader:\n",
        "            videos, labels = videos.to(device), labels.to(device)\n",
        "            outputs = model(videos)\n",
        "            _, preds = torch.max(outputs, 1)\n",
        "            all_preds.extend(preds.cpu().numpy())\n",
        "            all_labels.extend(labels.cpu().numpy())\n",
        "    return np.array(all_preds), np.array(all_labels)\n",
        "\n",
        "\n",
        "# Function to plot confusion matrix\n",
        "def plot_confusion_matrix(true_labels, preds, classes):\n",
        "    cm = confusion_matrix(true_labels, preds)\n",
        "    plt.figure(figsize=(10,8))\n",
        "    sns.heatmap(cm, annot=True, fmt=\"d\", cmap=\"Blues\", xticklabels=classes, yticklabels=classes)\n",
        "    plt.ylabel('Actual')\n",
        "    plt.xlabel('Predicted')\n",
        "    plt.title('Confusion Matrix')\n",
        "    plt.show()\n",
        "\n",
        "\n",
        "max_frames = 100  # Set your desired fixed number of frames\n",
        "\n",
        "class CustomVideoDataset(datasets.DatasetFolder):\n",
        "    def __getitem__(self, index):\n",
        "        path, target = self.samples[index]\n",
        "        frames = self.loader(path)  # Load frames as PIL images\n",
        "        frames = [transform(frame) for frame in frames]  # Apply transformations here\n",
        "\n",
        "        # Limit to max_frames\n",
        "        if len(frames) > max_frames:\n",
        "            frames = frames[:max_frames]\n",
        "        else:\n",
        "            # If there are fewer frames, pad with zeros\n",
        "            frames += [torch.zeros_like(frames[0])] * (max_frames - len(frames))\n",
        "\n",
        "        # Stack the frames\n",
        "        video_tensor = torch.stack(frames)\n",
        "\n",
        "\n",
        "        video_tensor = video_tensor.permute(1, 0, 2, 3)\n",
        "        video_tensor = video_tensor.unsqueeze(0)\n",
        "\n",
        "        return video_tensor.squeeze(0), target\n",
        "\n",
        "\n",
        "# Set device\n",
        "device = torch.device(\"cuda\" if torch.cuda.is_available() else \"cpu\")\n",
        "\n",
        "# Define transformations for video frames\n",
        "transform = transforms.Compose([\n",
        "    transforms.Resize((224, 224)),\n",
        "    transforms.ToTensor(),\n",
        "    transforms.Normalize(mean=[0.485, 0.456, 0.406], std=[0.229, 0.224, 0.225])\n",
        "])\n",
        "\n",
        "# Load train and test datasets using DatasetFolder\n",
        "train_dir = '/content/drive/MyDrive/PAM/train'\n",
        "test_dir = '/content/drive/MyDrive/PAM/test'\n",
        "\n",
        "\n",
        "train_dataset = CustomVideoDataset(root=train_dir, loader=load_video_frames, extensions=('avi',))\n",
        "test_dataset = CustomVideoDataset(root=test_dir, loader=load_video_frames, extensions=('avi',))\n",
        "\n",
        "\n",
        "# Create data loaders as before\n",
        "train_loader = DataLoader(train_dataset, batch_size=4, shuffle=True)\n",
        "test_loader = DataLoader(test_dataset, batch_size=4, shuffle=False)\n",
        "\n",
        "# Load pre-trained S3D model and modify the classifier\n",
        "# model = s3d(pretrained=True)\n",
        "model = s3d(weights='KINETICS400_V1')\n",
        "# Access the classifier layers\n",
        "dropout = model.classifier[0]  # Keep the dropout layer\n",
        "num_ftrs = model.classifier[1].in_channels  # Get the number of input channels to the Conv3d layer\n",
        "\n",
        "# Replace the last Conv3d layer with a new one that has the correct number of output classes\n",
        "model.classifier = nn.Sequential(\n",
        "    dropout,\n",
        "    nn.Conv3d(num_ftrs, len(train_dataset.classes), kernel_size=(1, 1, 1))  # Modify for dataset's number of classes\n",
        ")\n",
        "model = model.to(device)\n",
        "\n",
        "# Define optimizer and loss function\n",
        "optimizer = optim.Adam(model.parameters(), lr=0.001)\n",
        "criterion = nn.CrossEntropyLoss()\n",
        "\n"
      ]
    },
    {
      "cell_type": "code",
      "execution_count": null,
      "metadata": {
        "id": "RcZDV2CTQ6KO"
      },
      "outputs": [],
      "source": [
        "\n",
        "# Train the model\n",
        "train_model(model, train_loader, criterion, optimizer, num_epochs=5)\n",
        "\n",
        "# Evaluate on training data\n",
        "train_preds, train_labels = evaluate_model(model, train_loader)\n",
        "plot_confusion_matrix(train_labels, train_preds, train_dataset.classes)\n",
        "\n"
      ]
    },
    {
      "cell_type": "code",
      "execution_count": null,
      "metadata": {
        "id": "W4ztLrMBUQK9"
      },
      "outputs": [],
      "source": [
        "# Evaluate on testing data\n",
        "test_preds, test_labels = evaluate_model(model, test_loader)\n",
        "plot_confusion_matrix(test_labels, test_preds, test_dataset.classes)"
      ]
    },
    {
      "cell_type": "code",
      "execution_count": null,
      "metadata": {
        "id": "dW6pHvn1VEqq"
      },
      "outputs": [],
      "source": []
    }
  ],
  "metadata": {
    "colab": {
      "provenance": []
    },
    "kernelspec": {
      "display_name": "Python 3",
      "name": "python3"
    },
    "language_info": {
      "name": "python"
    }
  },
  "nbformat": 4,
  "nbformat_minor": 0
}
