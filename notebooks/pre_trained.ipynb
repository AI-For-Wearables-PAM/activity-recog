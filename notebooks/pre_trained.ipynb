{
  "cells": [
    {
      "cell_type": "markdown",
      "metadata": {
        "id": "WnY3fLN2QTRa"
      },
      "source": [
        "# Pre-trained"
      ]
    },
    {
      "cell_type": "markdown",
      "metadata": {
        "id": "sHBiJfAHQaEW"
      },
      "source": []
    },
    {
      "cell_type": "code",
      "execution_count": 20,
      "metadata": {
        "id": "_wVKpElDQQ_j"
      },
      "outputs": [],
      "source": [
        "import torch\n",
        "import torch.nn as nn\n",
        "import torch.optim as optim\n",
        "from torchvision import datasets, transforms\n",
        "from torchvision.models.video import s3d\n",
        "from torch.utils.data import DataLoader\n",
        "import numpy as np\n",
        "from sklearn.metrics import confusion_matrix\n",
        "import matplotlib.pyplot as plt\n",
        "import seaborn as sns\n",
        "import cv2\n",
        "import torch\n",
        "from torchvision import transforms\n",
        "from PIL import Image\n",
        "import datetime as dt"
      ]
    },
    {
      "cell_type": "code",
      "execution_count": 67,
      "metadata": {
        "id": "0bW3mysVO-zF"
      },
      "outputs": [],
      "source": [
        "# Function to load video frames without transformations\n",
        "def load_video_frames(video_path):\n",
        "    cap = cv2.VideoCapture(video_path)\n",
        "    frames = []\n",
        "    success, frame = cap.read()\n",
        "    while success:\n",
        "        # Convert BGR (OpenCV format) to RGB\n",
        "        frame = cv2.cvtColor(frame, cv2.COLOR_BGR2RGB)\n",
        "        # Convert NumPy array to PIL image\n",
        "        frames.append(Image.fromarray(frame))\n",
        "        success, frame = cap.read()\n",
        "    cap.release()\n",
        "    return frames  # Return the list of PIL images\n",
        "\n",
        "\n",
        "# Save pretrained model\n",
        "def save_pretrained(model):\n",
        "    date_time_format = '%Y-%m-%d-%H-%M-%S'\n",
        "    current_date_time_dt = dt.datetime.now()\n",
        "    current_date_time_string = dt.datetime.strftime(current_date_time_dt, date_time_format)\n",
        "    model_name = f'{current_date_time_string}-pretrained-model.pt'\n",
        "    save_path = f'../models/pretrained/{model_name}'\n",
        "\n",
        "    torch.save(model.state_dict(), save_path)\n",
        "\n",
        "    print(f\"Saved model to {save_path}\")\n",
        "\n",
        "\n",
        "# Load pretrained model \n",
        "def load_pretrained(model, model_path, check_weights=False):\n",
        "    trained_model = model.load_state_dict(torch.load(model_path, weights_only=True))\n",
        "\n",
        "    print(f'Loaded model from {model_path}')\n",
        "\n",
        "    # Check weights\n",
        "    if check_weights:\n",
        "        for var_name in model.state_dict():\n",
        "            print(var_name, \"\\t\", model.state_dict()[var_name])\n",
        "\n",
        "    return trained_model\n",
        "\n",
        "\n",
        "# Function to train the model\n",
        "def train_model(device, model, train_loader, criterion, optimizer, num_epochs=5):\n",
        "    trained_model = model.train()\n",
        "    \n",
        "    for epoch in range(num_epochs):\n",
        "        running_loss = 0.0\n",
        "        correct = 0\n",
        "        total = 0\n",
        "\n",
        "        print(\"\")\n",
        "        print(\"Training\")\n",
        "        print(\"\")\n",
        "        \n",
        "        count = 1\n",
        "\n",
        "        for videos, labels in train_loader:\n",
        "            print(f'{count}/{len(train_loader)}')\n",
        "            videos, labels = videos.to(device), labels.to(device)\n",
        "            optimizer.zero_grad()\n",
        "            outputs = model(videos)\n",
        "            loss = criterion(outputs, labels)\n",
        "            loss.backward()\n",
        "            optimizer.step()\n",
        "            running_loss += loss.item()\n",
        "            _, preds = torch.max(outputs, 1)\n",
        "            correct += (preds == labels).sum().item()\n",
        "            total += labels.size(0)\n",
        "            \n",
        "            count += 1\n",
        "\n",
        "        count = 1\n",
        "        \n",
        "        print(f\"Epoch [{epoch+1}/{num_epochs}], Loss: {running_loss/len(train_loader)}, Accuracy: {100 * correct / total}%\")\n",
        "\n",
        "    save_pretrained(trained_model)\n",
        "\n",
        "\n",
        "# Function to test the model and return predictions and true labels\n",
        "def evaluate_model(device, model, loader):\n",
        "    model.eval()\n",
        "    all_preds = []\n",
        "    all_labels = []\n",
        "    with torch.no_grad():\n",
        "        for videos, labels in loader:\n",
        "            videos, labels = videos.to(device), labels.to(device)\n",
        "            outputs = model(videos)\n",
        "            _, preds = torch.max(outputs, 1)\n",
        "            all_preds.extend(preds.cpu().numpy())\n",
        "            all_labels.extend(labels.cpu().numpy())\n",
        "    return np.array(all_preds), np.array(all_labels)\n",
        "\n",
        "\n",
        "# Function to plot confusion matrix\n",
        "def plot_confusion_matrix(true_labels, preds, classes):\n",
        "    cm = confusion_matrix(true_labels, preds)\n",
        "    plt.figure(figsize=(10,8))\n",
        "    sns.heatmap(cm, annot=True, fmt=\"d\", cmap=\"Blues\", xticklabels=classes, yticklabels=classes)\n",
        "    plt.ylabel('Actual')\n",
        "    plt.xlabel('Predicted')\n",
        "    plt.title('Confusion Matrix')\n",
        "    plt.show()\n"
      ]
    },
    {
      "cell_type": "code",
      "execution_count": 68,
      "metadata": {},
      "outputs": [],
      "source": [
        "max_frames = 100  # Set your desired fixed number of frames\n",
        "\n",
        "class CustomVideoDataset(datasets.DatasetFolder):\n",
        "    def __getitem__(self, index):\n",
        "        path, target = self.samples[index]\n",
        "        frames = self.loader(path)  # Load frames as PIL images\n",
        "        frames = [transform(frame) for frame in frames]  # Apply transformations here\n",
        "\n",
        "        # Limit to max_frames\n",
        "        if len(frames) > max_frames:\n",
        "            frames = frames[:max_frames]\n",
        "        else:\n",
        "            # If there are fewer frames, pad with zeros\n",
        "            frames += [torch.zeros_like(frames[0])] * (max_frames - len(frames))\n",
        "\n",
        "        # Stack the frames\n",
        "        video_tensor = torch.stack(frames)\n",
        "\n",
        "\n",
        "        video_tensor = video_tensor.permute(1, 0, 2, 3)\n",
        "        video_tensor = video_tensor.unsqueeze(0)\n",
        "\n",
        "        return video_tensor.squeeze(0), target\n",
        "\n",
        "\n",
        "# Set device\n",
        "device = torch.device(\"cuda\" if torch.cuda.is_available() else \"cpu\")\n",
        "\n",
        "# Define transformations for video frames\n",
        "transform = transforms.Compose([\n",
        "    transforms.Resize((224, 224)),\n",
        "    transforms.ToTensor(),\n",
        "    transforms.Normalize(mean=[0.485, 0.456, 0.406], std=[0.229, 0.224, 0.225])\n",
        "])"
      ]
    },
    {
      "cell_type": "code",
      "execution_count": 69,
      "metadata": {},
      "outputs": [],
      "source": [
        "# Load train and test datasets using DatasetFolder\n",
        "train_dir = '../downloads/train'\n",
        "test_dir = '../downloads/test'\n",
        "\n",
        "train_dataset = CustomVideoDataset(root=train_dir, loader=load_video_frames, extensions=('mp4',))\n",
        "test_dataset = CustomVideoDataset(root=test_dir, loader=load_video_frames, extensions=('mp4',))\n",
        "\n",
        "# Create data loaders as before\n",
        "train_loader = DataLoader(train_dataset, batch_size=4, shuffle=True)\n",
        "test_loader = DataLoader(test_dataset, batch_size=4, shuffle=False)\n",
        "\n",
        "# Load pre-trained S3D model and modify the classifier\n",
        "# model = s3d(pretrained=True)\n",
        "model = s3d(weights='KINETICS400_V1')\n",
        "# Access the classifier layers\n",
        "dropout = model.classifier[0]  # Keep the dropout layer\n",
        "num_ftrs = model.classifier[1].in_channels  # Get the number of input channels to the Conv3d layer\n",
        "\n",
        "# Replace the last Conv3d layer with a new one that has the correct number of output classes\n",
        "model.classifier = nn.Sequential(\n",
        "    dropout,\n",
        "    nn.Conv3d(num_ftrs, len(train_dataset.classes), kernel_size=(1, 1, 1))  # Modify for dataset's number of classes\n",
        ")\n",
        "\n",
        "model = model.to(device)\n",
        "\n",
        "# Define optimizer and loss function\n",
        "optimizer = optim.Adam(model.parameters(), lr=0.001)\n",
        "criterion = nn.CrossEntropyLoss()"
      ]
    },
    {
      "cell_type": "code",
      "execution_count": 70,
      "metadata": {
        "id": "RcZDV2CTQ6KO"
      },
      "outputs": [
        {
          "name": "stdout",
          "output_type": "stream",
          "text": [
            "\n",
            "Training\n",
            "\n",
            "1/112\n",
            "2/112\n",
            "3/112\n",
            "4/112\n",
            "5/112\n",
            "6/112\n",
            "7/112\n",
            "8/112\n",
            "9/112\n",
            "10/112\n",
            "11/112\n",
            "12/112\n",
            "13/112\n",
            "14/112\n",
            "15/112\n",
            "16/112\n",
            "17/112\n",
            "18/112\n",
            "19/112\n",
            "20/112\n",
            "21/112\n",
            "22/112\n",
            "23/112\n",
            "24/112\n",
            "25/112\n",
            "26/112\n",
            "27/112\n",
            "28/112\n",
            "29/112\n",
            "30/112\n",
            "31/112\n",
            "32/112\n",
            "33/112\n",
            "34/112\n"
          ]
        },
        {
          "ename": "KeyboardInterrupt",
          "evalue": "",
          "output_type": "error",
          "traceback": [
            "\u001b[0;31m---------------------------------------------------------------------------\u001b[0m",
            "\u001b[0;31mKeyboardInterrupt\u001b[0m                         Traceback (most recent call last)",
            "Cell \u001b[0;32mIn[70], line 2\u001b[0m\n\u001b[1;32m      1\u001b[0m \u001b[38;5;66;03m# Train the model\u001b[39;00m\n\u001b[0;32m----> 2\u001b[0m \u001b[43mtrain_model\u001b[49m\u001b[43m(\u001b[49m\u001b[43mdevice\u001b[49m\u001b[43m,\u001b[49m\u001b[43m \u001b[49m\u001b[43mmodel\u001b[49m\u001b[43m,\u001b[49m\u001b[43m \u001b[49m\u001b[43mtrain_loader\u001b[49m\u001b[43m,\u001b[49m\u001b[43m \u001b[49m\u001b[43mcriterion\u001b[49m\u001b[43m,\u001b[49m\u001b[43m \u001b[49m\u001b[43moptimizer\u001b[49m\u001b[43m,\u001b[49m\u001b[43m \u001b[49m\u001b[43mnum_epochs\u001b[49m\u001b[38;5;241;43m=\u001b[39;49m\u001b[38;5;241;43m5\u001b[39;49m\u001b[43m)\u001b[49m\n",
            "Cell \u001b[0;32mIn[67], line 64\u001b[0m, in \u001b[0;36mtrain_model\u001b[0;34m(device, model, train_loader, criterion, optimizer, num_epochs)\u001b[0m\n\u001b[1;32m     62\u001b[0m outputs \u001b[38;5;241m=\u001b[39m model(videos)\n\u001b[1;32m     63\u001b[0m loss \u001b[38;5;241m=\u001b[39m criterion(outputs, labels)\n\u001b[0;32m---> 64\u001b[0m \u001b[43mloss\u001b[49m\u001b[38;5;241;43m.\u001b[39;49m\u001b[43mbackward\u001b[49m\u001b[43m(\u001b[49m\u001b[43m)\u001b[49m\n\u001b[1;32m     65\u001b[0m optimizer\u001b[38;5;241m.\u001b[39mstep()\n\u001b[1;32m     66\u001b[0m running_loss \u001b[38;5;241m+\u001b[39m\u001b[38;5;241m=\u001b[39m loss\u001b[38;5;241m.\u001b[39mitem()\n",
            "File \u001b[0;32m/opt/anaconda3/envs/pretrained/lib/python3.11/site-packages/torch/_tensor.py:525\u001b[0m, in \u001b[0;36mTensor.backward\u001b[0;34m(self, gradient, retain_graph, create_graph, inputs)\u001b[0m\n\u001b[1;32m    515\u001b[0m \u001b[38;5;28;01mif\u001b[39;00m has_torch_function_unary(\u001b[38;5;28mself\u001b[39m):\n\u001b[1;32m    516\u001b[0m     \u001b[38;5;28;01mreturn\u001b[39;00m handle_torch_function(\n\u001b[1;32m    517\u001b[0m         Tensor\u001b[38;5;241m.\u001b[39mbackward,\n\u001b[1;32m    518\u001b[0m         (\u001b[38;5;28mself\u001b[39m,),\n\u001b[0;32m   (...)\u001b[0m\n\u001b[1;32m    523\u001b[0m         inputs\u001b[38;5;241m=\u001b[39minputs,\n\u001b[1;32m    524\u001b[0m     )\n\u001b[0;32m--> 525\u001b[0m \u001b[43mtorch\u001b[49m\u001b[38;5;241;43m.\u001b[39;49m\u001b[43mautograd\u001b[49m\u001b[38;5;241;43m.\u001b[39;49m\u001b[43mbackward\u001b[49m\u001b[43m(\u001b[49m\n\u001b[1;32m    526\u001b[0m \u001b[43m    \u001b[49m\u001b[38;5;28;43mself\u001b[39;49m\u001b[43m,\u001b[49m\u001b[43m \u001b[49m\u001b[43mgradient\u001b[49m\u001b[43m,\u001b[49m\u001b[43m \u001b[49m\u001b[43mretain_graph\u001b[49m\u001b[43m,\u001b[49m\u001b[43m \u001b[49m\u001b[43mcreate_graph\u001b[49m\u001b[43m,\u001b[49m\u001b[43m \u001b[49m\u001b[43minputs\u001b[49m\u001b[38;5;241;43m=\u001b[39;49m\u001b[43minputs\u001b[49m\n\u001b[1;32m    527\u001b[0m \u001b[43m\u001b[49m\u001b[43m)\u001b[49m\n",
            "File \u001b[0;32m/opt/anaconda3/envs/pretrained/lib/python3.11/site-packages/torch/autograd/__init__.py:267\u001b[0m, in \u001b[0;36mbackward\u001b[0;34m(tensors, grad_tensors, retain_graph, create_graph, grad_variables, inputs)\u001b[0m\n\u001b[1;32m    262\u001b[0m     retain_graph \u001b[38;5;241m=\u001b[39m create_graph\n\u001b[1;32m    264\u001b[0m \u001b[38;5;66;03m# The reason we repeat the same comment below is that\u001b[39;00m\n\u001b[1;32m    265\u001b[0m \u001b[38;5;66;03m# some Python versions print out the first line of a multi-line function\u001b[39;00m\n\u001b[1;32m    266\u001b[0m \u001b[38;5;66;03m# calls in the traceback and some print out the last line\u001b[39;00m\n\u001b[0;32m--> 267\u001b[0m \u001b[43m_engine_run_backward\u001b[49m\u001b[43m(\u001b[49m\n\u001b[1;32m    268\u001b[0m \u001b[43m    \u001b[49m\u001b[43mtensors\u001b[49m\u001b[43m,\u001b[49m\n\u001b[1;32m    269\u001b[0m \u001b[43m    \u001b[49m\u001b[43mgrad_tensors_\u001b[49m\u001b[43m,\u001b[49m\n\u001b[1;32m    270\u001b[0m \u001b[43m    \u001b[49m\u001b[43mretain_graph\u001b[49m\u001b[43m,\u001b[49m\n\u001b[1;32m    271\u001b[0m \u001b[43m    \u001b[49m\u001b[43mcreate_graph\u001b[49m\u001b[43m,\u001b[49m\n\u001b[1;32m    272\u001b[0m \u001b[43m    \u001b[49m\u001b[43minputs\u001b[49m\u001b[43m,\u001b[49m\n\u001b[1;32m    273\u001b[0m \u001b[43m    \u001b[49m\u001b[43mallow_unreachable\u001b[49m\u001b[38;5;241;43m=\u001b[39;49m\u001b[38;5;28;43;01mTrue\u001b[39;49;00m\u001b[43m,\u001b[49m\n\u001b[1;32m    274\u001b[0m \u001b[43m    \u001b[49m\u001b[43maccumulate_grad\u001b[49m\u001b[38;5;241;43m=\u001b[39;49m\u001b[38;5;28;43;01mTrue\u001b[39;49;00m\u001b[43m,\u001b[49m\n\u001b[1;32m    275\u001b[0m \u001b[43m\u001b[49m\u001b[43m)\u001b[49m\n",
            "File \u001b[0;32m/opt/anaconda3/envs/pretrained/lib/python3.11/site-packages/torch/autograd/graph.py:744\u001b[0m, in \u001b[0;36m_engine_run_backward\u001b[0;34m(t_outputs, *args, **kwargs)\u001b[0m\n\u001b[1;32m    742\u001b[0m     unregister_hooks \u001b[38;5;241m=\u001b[39m _register_logging_hooks_on_whole_graph(t_outputs)\n\u001b[1;32m    743\u001b[0m \u001b[38;5;28;01mtry\u001b[39;00m:\n\u001b[0;32m--> 744\u001b[0m     \u001b[38;5;28;01mreturn\u001b[39;00m \u001b[43mVariable\u001b[49m\u001b[38;5;241;43m.\u001b[39;49m\u001b[43m_execution_engine\u001b[49m\u001b[38;5;241;43m.\u001b[39;49m\u001b[43mrun_backward\u001b[49m\u001b[43m(\u001b[49m\u001b[43m  \u001b[49m\u001b[38;5;66;43;03m# Calls into the C++ engine to run the backward pass\u001b[39;49;00m\n\u001b[1;32m    745\u001b[0m \u001b[43m        \u001b[49m\u001b[43mt_outputs\u001b[49m\u001b[43m,\u001b[49m\u001b[43m \u001b[49m\u001b[38;5;241;43m*\u001b[39;49m\u001b[43margs\u001b[49m\u001b[43m,\u001b[49m\u001b[43m \u001b[49m\u001b[38;5;241;43m*\u001b[39;49m\u001b[38;5;241;43m*\u001b[39;49m\u001b[43mkwargs\u001b[49m\n\u001b[1;32m    746\u001b[0m \u001b[43m    \u001b[49m\u001b[43m)\u001b[49m  \u001b[38;5;66;03m# Calls into the C++ engine to run the backward pass\u001b[39;00m\n\u001b[1;32m    747\u001b[0m \u001b[38;5;28;01mfinally\u001b[39;00m:\n\u001b[1;32m    748\u001b[0m     \u001b[38;5;28;01mif\u001b[39;00m attach_logging_hooks:\n",
            "\u001b[0;31mKeyboardInterrupt\u001b[0m: "
          ]
        }
      ],
      "source": [
        "# Train the model\n",
        "train_model(device, model, train_loader, criterion, optimizer, num_epochs=5)"
      ]
    },
    {
      "cell_type": "code",
      "execution_count": 48,
      "metadata": {},
      "outputs": [
        {
          "name": "stdout",
          "output_type": "stream",
          "text": [
            "Loaded model from ../models/pretrained/2024-09-29-04-06-42-pretrained-model.pt\n"
          ]
        },
        {
          "data": {
            "text/plain": [
              "<All keys matched successfully>"
            ]
          },
          "execution_count": 48,
          "metadata": {},
          "output_type": "execute_result"
        }
      ],
      "source": [
        "# Load model\n",
        "model_dir = '../models/pretrained'\n",
        "model_name = '2024-09-29-04-06-42-pretrained-model.pt'\n",
        "model_path = f'{model_dir}/{model_name}'\n",
        "load_pretrained(model, model_path)"
      ]
    },
    {
      "cell_type": "code",
      "execution_count": null,
      "metadata": {},
      "outputs": [],
      "source": [
        "# Evaluate on training data\n",
        "train_preds, train_labels = evaluate_model(device, model, train_loader)"
      ]
    },
    {
      "cell_type": "code",
      "execution_count": null,
      "metadata": {},
      "outputs": [],
      "source": [
        "# Plot confusion matrix\n",
        "plot_confusion_matrix(train_labels, train_preds, train_dataset.classes)"
      ]
    },
    {
      "cell_type": "code",
      "execution_count": null,
      "metadata": {
        "id": "W4ztLrMBUQK9"
      },
      "outputs": [],
      "source": [
        "# Evaluate on testing data\n",
        "test_preds, test_labels = evaluate_model(device, model, test_loader)\n",
        "plot_confusion_matrix(test_labels, test_preds, test_dataset.classes)"
      ]
    }
  ],
  "metadata": {
    "colab": {
      "provenance": []
    },
    "kernelspec": {
      "display_name": "Python 3",
      "name": "python3"
    },
    "language_info": {
      "codemirror_mode": {
        "name": "ipython",
        "version": 3
      },
      "file_extension": ".py",
      "mimetype": "text/x-python",
      "name": "python",
      "nbconvert_exporter": "python",
      "pygments_lexer": "ipython3",
      "version": "3.11.9"
    }
  },
  "nbformat": 4,
  "nbformat_minor": 0
}
