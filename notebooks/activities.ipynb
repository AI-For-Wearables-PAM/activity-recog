{
 "cells": [
  {
   "cell_type": "code",
   "execution_count": 3,
   "metadata": {},
   "outputs": [],
   "source": [
    "import pandas as pd\n",
    "import os"
   ]
  },
  {
   "cell_type": "code",
   "execution_count": 4,
   "metadata": {},
   "outputs": [],
   "source": [
    "# List files and ignore .DS_Store if on a Mac\n",
    "def list_files(directory):\n",
    "    visible_files = []\n",
    "    for file in os.listdir(directory):\n",
    "        if not file.startswith('.'):\n",
    "            visible_files.append(file)\n",
    "\n",
    "    return visible_files"
   ]
  },
  {
   "cell_type": "code",
   "execution_count": 16,
   "metadata": {},
   "outputs": [
    {
     "name": "stdout",
     "output_type": "stream",
     "text": [
      "['EVS Visit', 'Sitting In Wheelchair', 'Doctor Visit', 'Talking on the Phone', 'Family', 'Watching TV', 'Asleep-Trying to sleep', 'Therapy', 'Lying In Bed', 'Eating', 'Nurse Visit', 'Transfer To Bed']\n",
      "['EVS Visit', 'Sitting In Wheelchair', 'Doctor Visit', 'Talking on the Phone', 'Family', 'Watching TV', 'Asleep-Trying to sleep', 'Therapy', 'Lying In Bed', 'Eating', 'Nurse Visit', 'Transfer To Bed']\n"
     ]
    }
   ],
   "source": [
    "test_path = '../downloads/test'\n",
    "train_path = '../downloads/train'\n",
    "\n",
    "idx = 0\n",
    "\n",
    "test_files = list_files(test_path)\n",
    "train_files = list_files(train_path)\n",
    "\n",
    "print(test_files)\n",
    "print(train_files)"
   ]
  }
 ],
 "metadata": {
  "kernelspec": {
   "display_name": "base",
   "language": "python",
   "name": "python3"
  },
  "language_info": {
   "codemirror_mode": {
    "name": "ipython",
    "version": 3
   },
   "file_extension": ".py",
   "mimetype": "text/x-python",
   "name": "python",
   "nbconvert_exporter": "python",
   "pygments_lexer": "ipython3",
   "version": "3.11.5"
  }
 },
 "nbformat": 4,
 "nbformat_minor": 2
}
