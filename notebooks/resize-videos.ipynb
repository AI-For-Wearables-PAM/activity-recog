{
 "cells": [
  {
   "cell_type": "markdown",
   "metadata": {},
   "source": [
    "# Resize videos "
   ]
  },
  {
   "cell_type": "code",
   "execution_count": 1,
   "metadata": {},
   "outputs": [],
   "source": [
    "import os\n",
    "from moviepy.editor import *\n",
    "import numpy as np"
   ]
  },
  {
   "cell_type": "code",
   "execution_count": null,
   "metadata": {},
   "outputs": [],
   "source": [
    "# List files and ignore .DS_Store if on a Mac\n",
    "def list_files(directory):\n",
    "    visible_files = []\n",
    "    for file in os.listdir(directory):\n",
    "        if not file.startswith('.'):\n",
    "            visible_files.append(file)\n",
    "\n",
    "    return visible_files\n",
    "\n",
    "# Resize video\n",
    "def resize_video(directory, class_name, file_name, height, start, min_duration=5, **kwargs):\n",
    "    file_name = file_name[:-4]\n",
    "    clip = VideoFileClip(f\"{directory}/{class_name}/{file_name}.mp4\")\n",
    "\n",
    "    # Define end time and clip duration\n",
    "    end = start + min_duration\n",
    "    dur = clip.duration\n",
    "\n",
    "    if dur <= min_duration:\n",
    "        end = dur\n",
    "        \n",
    "    if 'multiple' in kwargs:\n",
    "        if kwargs.get(\"multiple\"):\n",
    "            # Separate clip into many clips of equal-length \n",
    "            num_clips = int(dur/min_duration)\n",
    "            current_clip = 1\n",
    "            new_start = min_duration\n",
    "            new_end = new_start + min_duration\n",
    "            new_dur = dur\n",
    "            final_dur = int(min_duration + (dur % min_duration))\n",
    "\n",
    "            print(f\"Splitting {file_name} into {int(num_clips - 1)} clips\")\n",
    "\n",
    "\n",
    "            while current_clip != num_clips:\n",
    "\n",
    "                print(f\"Clip {current_clip}\")\n",
    "\n",
    "                if current_clip == 1:\n",
    "                    clip_resized = clip.resize(height=height).subclip(start, end)\n",
    "                    print(start, end, dur)\n",
    "\n",
    "                else:\n",
    "                    # print(dur, final_dur)\n",
    "\n",
    "                    if current_clip == num_clips:\n",
    "                        print(\"Final clip\")\n",
    "                        clip_resized = clip.resize(height=height).subclip(new_start, final_dur)\n",
    "                        print(f\"Clip {current_clip}\")\n",
    "                    \n",
    "                    else:\n",
    "                        time_remaining = new_dur - min_duration\n",
    "                        new_dur = time_remaining\n",
    "                        new_start += min_duration\n",
    "                        new_end += min_duration\n",
    "                        clip_resized = clip.resize(height=height).subclip(new_start, new_end)\n",
    "\n",
    "                # Save resized video, r = resized\n",
    "                if 'save_path' in kwargs:\n",
    "                    save_path = kwargs.get(\"save_path\")\n",
    "                    clip_resized.write_videofile(f\"{save_path}/{file_name}_r{current_clip}.mp4\")\n",
    "                else:\n",
    "                    clip_resized.write_videofile(f\"{directory}/{class_name}/{file_name}_r_{current_clip}.mp4\")\n",
    "\n",
    "                # if dur != final_dur:\n",
    "                current_clip += 1\n",
    "\n",
    "            del clip.reader\n",
    "            del clip\n",
    "\n",
    "    print(\"Done\")"
   ]
  },
  {
   "cell_type": "markdown",
   "metadata": {},
   "source": [
    "```python\n",
    "# Example of resizing one video\n",
    "path = \"../downloads/train\"\n",
    "label = \"Asleep-Trying to sleep\"\n",
    "video = \"7393750354384702609.mp4\"\n",
    "\n",
    "resize_video(directory=path, class_name=label, file_name=video, height=360, start=0)\n",
    "```"
   ]
  },
  {
   "cell_type": "code",
   "execution_count": null,
   "metadata": {},
   "outputs": [],
   "source": [
    "# # Define paths and resizing details\n",
    "# path = \"../downloads/test\"\n",
    "# save_path = f\"../downloads/test_resized\"\n",
    "# classes = list_files(path)\n",
    "# new_height = 360\n",
    "# start_time = 0\n",
    "\n",
    "# # Iterate through each folder\n",
    "# for c in classes:\n",
    "#     print(c)\n",
    "#     files = list_files(f\"{path}/{c}\")\n",
    "#     new_path = f\"{save_path}/{c}\"\n",
    "\n",
    "#     # Make a new folder if it doesn't exist\n",
    "#     if not os.path.exists(new_path):\n",
    "#         os.makedirs(new_path)\n",
    "\n",
    "#     # Resize and save new clips\n",
    "#     for f in files:\n",
    "#         try:\n",
    "#             resize_video(directory=path,\n",
    "#                          class_name=c,\n",
    "#                          file_name=f,\n",
    "#                          height=new_height,\n",
    "#                          start=start_time,\n",
    "#                          save_path=new_path)\n",
    "\n",
    "#         except Exception as e:\n",
    "#             print(e)"
   ]
  },
  {
   "cell_type": "code",
   "execution_count": null,
   "metadata": {},
   "outputs": [
    {
     "name": "stdout",
     "output_type": "stream",
     "text": [
      "Splitting 7393786513714367633 into 24 clips\n",
      "Clip (1, 25)\n",
      "First condition\n",
      "0 5 126.86\n",
      "Moviepy - Building video ../downloads/new_resized/7393786513714367633_r1.mp4.\n",
      "MoviePy - Writing audio in 7393786513714367633_r1TEMP_MPY_wvf_snd.mp3\n"
     ]
    },
    {
     "name": "stderr",
     "output_type": "stream",
     "text": [
      "                                                        \r"
     ]
    },
    {
     "name": "stdout",
     "output_type": "stream",
     "text": [
      "MoviePy - Done.\n",
      "Moviepy - Writing video ../downloads/new_resized/7393786513714367633_r1.mp4\n",
      "\n"
     ]
    },
    {
     "name": "stderr",
     "output_type": "stream",
     "text": [
      "                                                              \r"
     ]
    },
    {
     "name": "stdout",
     "output_type": "stream",
     "text": [
      "Moviepy - Done !\n",
      "Moviepy - video ready ../downloads/new_resized/7393786513714367633_r1.mp4\n",
      "Clip (2, 25)\n",
      "Clip 2 121.86\n",
      "Moviepy - Building video ../downloads/new_resized/7393786513714367633_r2.mp4.\n",
      "MoviePy - Writing audio in 7393786513714367633_r2TEMP_MPY_wvf_snd.mp3\n"
     ]
    },
    {
     "name": "stderr",
     "output_type": "stream",
     "text": [
      "                                                        \r"
     ]
    },
    {
     "name": "stdout",
     "output_type": "stream",
     "text": [
      "MoviePy - Done.\n",
      "Moviepy - Writing video ../downloads/new_resized/7393786513714367633_r2.mp4\n",
      "\n"
     ]
    },
    {
     "name": "stderr",
     "output_type": "stream",
     "text": [
      "                                                              \r"
     ]
    },
    {
     "name": "stdout",
     "output_type": "stream",
     "text": [
      "Moviepy - Done !\n",
      "Moviepy - video ready ../downloads/new_resized/7393786513714367633_r2.mp4\n",
      "Clip (3, 25)\n",
      "Clip 3 116.86\n",
      "Moviepy - Building video ../downloads/new_resized/7393786513714367633_r3.mp4.\n",
      "MoviePy - Writing audio in 7393786513714367633_r3TEMP_MPY_wvf_snd.mp3\n"
     ]
    },
    {
     "name": "stderr",
     "output_type": "stream",
     "text": [
      "                                                        \r"
     ]
    },
    {
     "name": "stdout",
     "output_type": "stream",
     "text": [
      "MoviePy - Done.\n",
      "Moviepy - Writing video ../downloads/new_resized/7393786513714367633_r3.mp4\n",
      "\n"
     ]
    },
    {
     "name": "stderr",
     "output_type": "stream",
     "text": [
      "                                                              \r"
     ]
    },
    {
     "name": "stdout",
     "output_type": "stream",
     "text": [
      "Moviepy - Done !\n",
      "Moviepy - video ready ../downloads/new_resized/7393786513714367633_r3.mp4\n",
      "Clip (4, 25)\n",
      "Clip 4 111.86\n",
      "Moviepy - Building video ../downloads/new_resized/7393786513714367633_r4.mp4.\n",
      "MoviePy - Writing audio in 7393786513714367633_r4TEMP_MPY_wvf_snd.mp3\n"
     ]
    },
    {
     "name": "stderr",
     "output_type": "stream",
     "text": [
      "                                                        \r"
     ]
    },
    {
     "name": "stdout",
     "output_type": "stream",
     "text": [
      "MoviePy - Done.\n",
      "Moviepy - Writing video ../downloads/new_resized/7393786513714367633_r4.mp4\n",
      "\n"
     ]
    },
    {
     "name": "stderr",
     "output_type": "stream",
     "text": [
      "                                                              \r"
     ]
    },
    {
     "name": "stdout",
     "output_type": "stream",
     "text": [
      "Moviepy - Done !\n",
      "Moviepy - video ready ../downloads/new_resized/7393786513714367633_r4.mp4\n",
      "Clip (5, 25)\n",
      "Clip 5 106.86\n",
      "Moviepy - Building video ../downloads/new_resized/7393786513714367633_r5.mp4.\n",
      "MoviePy - Writing audio in 7393786513714367633_r5TEMP_MPY_wvf_snd.mp3\n"
     ]
    },
    {
     "name": "stderr",
     "output_type": "stream",
     "text": [
      "                                                        \r"
     ]
    },
    {
     "name": "stdout",
     "output_type": "stream",
     "text": [
      "MoviePy - Done.\n",
      "Moviepy - Writing video ../downloads/new_resized/7393786513714367633_r5.mp4\n",
      "\n"
     ]
    },
    {
     "name": "stderr",
     "output_type": "stream",
     "text": [
      "                                                              \r"
     ]
    },
    {
     "name": "stdout",
     "output_type": "stream",
     "text": [
      "Moviepy - Done !\n",
      "Moviepy - video ready ../downloads/new_resized/7393786513714367633_r5.mp4\n",
      "Clip (6, 25)\n",
      "Clip 6 101.86\n",
      "Moviepy - Building video ../downloads/new_resized/7393786513714367633_r6.mp4.\n",
      "MoviePy - Writing audio in 7393786513714367633_r6TEMP_MPY_wvf_snd.mp3\n"
     ]
    },
    {
     "name": "stderr",
     "output_type": "stream",
     "text": [
      "                                                        \r"
     ]
    },
    {
     "name": "stdout",
     "output_type": "stream",
     "text": [
      "MoviePy - Done.\n",
      "Moviepy - Writing video ../downloads/new_resized/7393786513714367633_r6.mp4\n",
      "\n"
     ]
    },
    {
     "name": "stderr",
     "output_type": "stream",
     "text": [
      "                                                              \r"
     ]
    },
    {
     "name": "stdout",
     "output_type": "stream",
     "text": [
      "Moviepy - Done !\n",
      "Moviepy - video ready ../downloads/new_resized/7393786513714367633_r6.mp4\n",
      "Clip (7, 25)\n",
      "Clip 7 96.86\n",
      "Moviepy - Building video ../downloads/new_resized/7393786513714367633_r7.mp4.\n",
      "MoviePy - Writing audio in 7393786513714367633_r7TEMP_MPY_wvf_snd.mp3\n"
     ]
    },
    {
     "name": "stderr",
     "output_type": "stream",
     "text": [
      "                                                        \r"
     ]
    },
    {
     "name": "stdout",
     "output_type": "stream",
     "text": [
      "MoviePy - Done.\n",
      "Moviepy - Writing video ../downloads/new_resized/7393786513714367633_r7.mp4\n",
      "\n"
     ]
    },
    {
     "name": "stderr",
     "output_type": "stream",
     "text": [
      "                                                              \r"
     ]
    },
    {
     "name": "stdout",
     "output_type": "stream",
     "text": [
      "Moviepy - Done !\n",
      "Moviepy - video ready ../downloads/new_resized/7393786513714367633_r7.mp4\n",
      "Clip (8, 25)\n",
      "Clip 8 91.86\n",
      "Moviepy - Building video ../downloads/new_resized/7393786513714367633_r8.mp4.\n",
      "MoviePy - Writing audio in 7393786513714367633_r8TEMP_MPY_wvf_snd.mp3\n"
     ]
    },
    {
     "name": "stderr",
     "output_type": "stream",
     "text": [
      "                                                        \r"
     ]
    },
    {
     "name": "stdout",
     "output_type": "stream",
     "text": [
      "MoviePy - Done.\n",
      "Moviepy - Writing video ../downloads/new_resized/7393786513714367633_r8.mp4\n",
      "\n"
     ]
    },
    {
     "name": "stderr",
     "output_type": "stream",
     "text": [
      "                                                              \r"
     ]
    },
    {
     "name": "stdout",
     "output_type": "stream",
     "text": [
      "Moviepy - Done !\n",
      "Moviepy - video ready ../downloads/new_resized/7393786513714367633_r8.mp4\n",
      "Clip (9, 25)\n",
      "Clip 9 86.86\n",
      "Moviepy - Building video ../downloads/new_resized/7393786513714367633_r9.mp4.\n",
      "MoviePy - Writing audio in 7393786513714367633_r9TEMP_MPY_wvf_snd.mp3\n"
     ]
    },
    {
     "name": "stderr",
     "output_type": "stream",
     "text": [
      "                                                        \r"
     ]
    },
    {
     "name": "stdout",
     "output_type": "stream",
     "text": [
      "MoviePy - Done.\n",
      "Moviepy - Writing video ../downloads/new_resized/7393786513714367633_r9.mp4\n",
      "\n"
     ]
    },
    {
     "name": "stderr",
     "output_type": "stream",
     "text": [
      "                                                              \r"
     ]
    },
    {
     "name": "stdout",
     "output_type": "stream",
     "text": [
      "Moviepy - Done !\n",
      "Moviepy - video ready ../downloads/new_resized/7393786513714367633_r9.mp4\n",
      "Clip (10, 25)\n",
      "Clip 10 81.86\n",
      "Moviepy - Building video ../downloads/new_resized/7393786513714367633_r10.mp4.\n",
      "MoviePy - Writing audio in 7393786513714367633_r10TEMP_MPY_wvf_snd.mp3\n"
     ]
    },
    {
     "name": "stderr",
     "output_type": "stream",
     "text": [
      "                                                        \r"
     ]
    },
    {
     "name": "stdout",
     "output_type": "stream",
     "text": [
      "MoviePy - Done.\n",
      "Moviepy - Writing video ../downloads/new_resized/7393786513714367633_r10.mp4\n",
      "\n"
     ]
    },
    {
     "name": "stderr",
     "output_type": "stream",
     "text": [
      "                                                              \r"
     ]
    },
    {
     "name": "stdout",
     "output_type": "stream",
     "text": [
      "Moviepy - Done !\n",
      "Moviepy - video ready ../downloads/new_resized/7393786513714367633_r10.mp4\n",
      "Clip (11, 25)\n",
      "Clip 11 76.86\n",
      "Moviepy - Building video ../downloads/new_resized/7393786513714367633_r11.mp4.\n",
      "MoviePy - Writing audio in 7393786513714367633_r11TEMP_MPY_wvf_snd.mp3\n"
     ]
    },
    {
     "name": "stderr",
     "output_type": "stream",
     "text": [
      "                                                        \r"
     ]
    },
    {
     "name": "stdout",
     "output_type": "stream",
     "text": [
      "MoviePy - Done.\n",
      "Moviepy - Writing video ../downloads/new_resized/7393786513714367633_r11.mp4\n",
      "\n"
     ]
    },
    {
     "name": "stderr",
     "output_type": "stream",
     "text": [
      "                                                              \r"
     ]
    },
    {
     "name": "stdout",
     "output_type": "stream",
     "text": [
      "Moviepy - Done !\n",
      "Moviepy - video ready ../downloads/new_resized/7393786513714367633_r11.mp4\n",
      "Clip (12, 25)\n",
      "Clip 12 71.86\n",
      "Moviepy - Building video ../downloads/new_resized/7393786513714367633_r12.mp4.\n",
      "MoviePy - Writing audio in 7393786513714367633_r12TEMP_MPY_wvf_snd.mp3\n"
     ]
    },
    {
     "name": "stderr",
     "output_type": "stream",
     "text": [
      "                                                        \r"
     ]
    },
    {
     "name": "stdout",
     "output_type": "stream",
     "text": [
      "MoviePy - Done.\n",
      "Moviepy - Writing video ../downloads/new_resized/7393786513714367633_r12.mp4\n",
      "\n"
     ]
    },
    {
     "name": "stderr",
     "output_type": "stream",
     "text": [
      "                                                              \r"
     ]
    },
    {
     "name": "stdout",
     "output_type": "stream",
     "text": [
      "Moviepy - Done !\n",
      "Moviepy - video ready ../downloads/new_resized/7393786513714367633_r12.mp4\n",
      "Clip (13, 25)\n",
      "Clip 13 66.86\n",
      "Moviepy - Building video ../downloads/new_resized/7393786513714367633_r13.mp4.\n",
      "MoviePy - Writing audio in 7393786513714367633_r13TEMP_MPY_wvf_snd.mp3\n"
     ]
    },
    {
     "name": "stderr",
     "output_type": "stream",
     "text": [
      "                                                        \r"
     ]
    },
    {
     "name": "stdout",
     "output_type": "stream",
     "text": [
      "MoviePy - Done.\n",
      "Moviepy - Writing video ../downloads/new_resized/7393786513714367633_r13.mp4\n",
      "\n"
     ]
    },
    {
     "name": "stderr",
     "output_type": "stream",
     "text": [
      "                                                              \r"
     ]
    },
    {
     "name": "stdout",
     "output_type": "stream",
     "text": [
      "Moviepy - Done !\n",
      "Moviepy - video ready ../downloads/new_resized/7393786513714367633_r13.mp4\n",
      "Clip (14, 25)\n",
      "Clip 14 61.86\n",
      "Moviepy - Building video ../downloads/new_resized/7393786513714367633_r14.mp4.\n",
      "MoviePy - Writing audio in 7393786513714367633_r14TEMP_MPY_wvf_snd.mp3\n"
     ]
    },
    {
     "name": "stderr",
     "output_type": "stream",
     "text": [
      "                                                        \r"
     ]
    },
    {
     "name": "stdout",
     "output_type": "stream",
     "text": [
      "MoviePy - Done.\n",
      "Moviepy - Writing video ../downloads/new_resized/7393786513714367633_r14.mp4\n",
      "\n"
     ]
    },
    {
     "name": "stderr",
     "output_type": "stream",
     "text": [
      "                                                              \r"
     ]
    },
    {
     "name": "stdout",
     "output_type": "stream",
     "text": [
      "Moviepy - Done !\n",
      "Moviepy - video ready ../downloads/new_resized/7393786513714367633_r14.mp4\n",
      "Clip (15, 25)\n",
      "Clip 15 56.86\n",
      "Moviepy - Building video ../downloads/new_resized/7393786513714367633_r15.mp4.\n",
      "MoviePy - Writing audio in 7393786513714367633_r15TEMP_MPY_wvf_snd.mp3\n"
     ]
    },
    {
     "name": "stderr",
     "output_type": "stream",
     "text": [
      "                                                        \r"
     ]
    },
    {
     "name": "stdout",
     "output_type": "stream",
     "text": [
      "MoviePy - Done.\n",
      "Moviepy - Writing video ../downloads/new_resized/7393786513714367633_r15.mp4\n",
      "\n"
     ]
    },
    {
     "name": "stderr",
     "output_type": "stream",
     "text": [
      "                                                              \r"
     ]
    },
    {
     "name": "stdout",
     "output_type": "stream",
     "text": [
      "Moviepy - Done !\n",
      "Moviepy - video ready ../downloads/new_resized/7393786513714367633_r15.mp4\n",
      "Clip (16, 25)\n",
      "Clip 16 51.86\n",
      "Moviepy - Building video ../downloads/new_resized/7393786513714367633_r16.mp4.\n",
      "MoviePy - Writing audio in 7393786513714367633_r16TEMP_MPY_wvf_snd.mp3\n"
     ]
    },
    {
     "name": "stderr",
     "output_type": "stream",
     "text": [
      "                                                        \r"
     ]
    },
    {
     "name": "stdout",
     "output_type": "stream",
     "text": [
      "MoviePy - Done.\n",
      "Moviepy - Writing video ../downloads/new_resized/7393786513714367633_r16.mp4\n",
      "\n"
     ]
    },
    {
     "name": "stderr",
     "output_type": "stream",
     "text": [
      "                                                              \r"
     ]
    },
    {
     "name": "stdout",
     "output_type": "stream",
     "text": [
      "Moviepy - Done !\n",
      "Moviepy - video ready ../downloads/new_resized/7393786513714367633_r16.mp4\n",
      "Clip (17, 25)\n",
      "Clip 17 46.86\n",
      "Moviepy - Building video ../downloads/new_resized/7393786513714367633_r17.mp4.\n",
      "MoviePy - Writing audio in 7393786513714367633_r17TEMP_MPY_wvf_snd.mp3\n"
     ]
    },
    {
     "name": "stderr",
     "output_type": "stream",
     "text": [
      "                                                        \r"
     ]
    },
    {
     "name": "stdout",
     "output_type": "stream",
     "text": [
      "MoviePy - Done.\n",
      "Moviepy - Writing video ../downloads/new_resized/7393786513714367633_r17.mp4\n",
      "\n"
     ]
    },
    {
     "name": "stderr",
     "output_type": "stream",
     "text": [
      "                                                              \r"
     ]
    },
    {
     "name": "stdout",
     "output_type": "stream",
     "text": [
      "Moviepy - Done !\n",
      "Moviepy - video ready ../downloads/new_resized/7393786513714367633_r17.mp4\n",
      "Clip (18, 25)\n",
      "Clip 18 41.86\n",
      "Moviepy - Building video ../downloads/new_resized/7393786513714367633_r18.mp4.\n",
      "MoviePy - Writing audio in 7393786513714367633_r18TEMP_MPY_wvf_snd.mp3\n"
     ]
    },
    {
     "name": "stderr",
     "output_type": "stream",
     "text": [
      "                                                        \r"
     ]
    },
    {
     "name": "stdout",
     "output_type": "stream",
     "text": [
      "MoviePy - Done.\n",
      "Moviepy - Writing video ../downloads/new_resized/7393786513714367633_r18.mp4\n",
      "\n"
     ]
    },
    {
     "name": "stderr",
     "output_type": "stream",
     "text": [
      "                                                              \r"
     ]
    },
    {
     "name": "stdout",
     "output_type": "stream",
     "text": [
      "Moviepy - Done !\n",
      "Moviepy - video ready ../downloads/new_resized/7393786513714367633_r18.mp4\n",
      "Clip (19, 25)\n",
      "Clip 19 36.86\n",
      "Moviepy - Building video ../downloads/new_resized/7393786513714367633_r19.mp4.\n",
      "MoviePy - Writing audio in 7393786513714367633_r19TEMP_MPY_wvf_snd.mp3\n"
     ]
    },
    {
     "name": "stderr",
     "output_type": "stream",
     "text": [
      "                                                        \r"
     ]
    },
    {
     "name": "stdout",
     "output_type": "stream",
     "text": [
      "MoviePy - Done.\n",
      "Moviepy - Writing video ../downloads/new_resized/7393786513714367633_r19.mp4\n",
      "\n"
     ]
    },
    {
     "name": "stderr",
     "output_type": "stream",
     "text": [
      "                                                              \r"
     ]
    },
    {
     "name": "stdout",
     "output_type": "stream",
     "text": [
      "Moviepy - Done !\n",
      "Moviepy - video ready ../downloads/new_resized/7393786513714367633_r19.mp4\n",
      "Clip (20, 25)\n",
      "Clip 20 31.86\n",
      "Moviepy - Building video ../downloads/new_resized/7393786513714367633_r20.mp4.\n",
      "MoviePy - Writing audio in 7393786513714367633_r20TEMP_MPY_wvf_snd.mp3\n"
     ]
    },
    {
     "name": "stderr",
     "output_type": "stream",
     "text": [
      "                                                        \r"
     ]
    },
    {
     "name": "stdout",
     "output_type": "stream",
     "text": [
      "MoviePy - Done.\n",
      "Moviepy - Writing video ../downloads/new_resized/7393786513714367633_r20.mp4\n",
      "\n"
     ]
    },
    {
     "name": "stderr",
     "output_type": "stream",
     "text": [
      "                                                              \r"
     ]
    },
    {
     "name": "stdout",
     "output_type": "stream",
     "text": [
      "Moviepy - Done !\n",
      "Moviepy - video ready ../downloads/new_resized/7393786513714367633_r20.mp4\n",
      "Clip (21, 25)\n",
      "Clip 21 26.86\n",
      "Moviepy - Building video ../downloads/new_resized/7393786513714367633_r21.mp4.\n",
      "MoviePy - Writing audio in 7393786513714367633_r21TEMP_MPY_wvf_snd.mp3\n"
     ]
    },
    {
     "name": "stderr",
     "output_type": "stream",
     "text": [
      "                                                        \r"
     ]
    },
    {
     "name": "stdout",
     "output_type": "stream",
     "text": [
      "MoviePy - Done.\n",
      "Moviepy - Writing video ../downloads/new_resized/7393786513714367633_r21.mp4\n",
      "\n"
     ]
    },
    {
     "name": "stderr",
     "output_type": "stream",
     "text": [
      "                                                              \r"
     ]
    },
    {
     "name": "stdout",
     "output_type": "stream",
     "text": [
      "Moviepy - Done !\n",
      "Moviepy - video ready ../downloads/new_resized/7393786513714367633_r21.mp4\n",
      "Clip (22, 25)\n",
      "Clip 22 21.86\n",
      "Moviepy - Building video ../downloads/new_resized/7393786513714367633_r22.mp4.\n",
      "MoviePy - Writing audio in 7393786513714367633_r22TEMP_MPY_wvf_snd.mp3\n"
     ]
    },
    {
     "name": "stderr",
     "output_type": "stream",
     "text": [
      "                                                        \r"
     ]
    },
    {
     "name": "stdout",
     "output_type": "stream",
     "text": [
      "MoviePy - Done.\n",
      "Moviepy - Writing video ../downloads/new_resized/7393786513714367633_r22.mp4\n",
      "\n"
     ]
    },
    {
     "name": "stderr",
     "output_type": "stream",
     "text": [
      "                                                              \r"
     ]
    },
    {
     "name": "stdout",
     "output_type": "stream",
     "text": [
      "Moviepy - Done !\n",
      "Moviepy - video ready ../downloads/new_resized/7393786513714367633_r22.mp4\n",
      "Clip (23, 25)\n",
      "Clip 23 16.86\n",
      "Moviepy - Building video ../downloads/new_resized/7393786513714367633_r23.mp4.\n",
      "MoviePy - Writing audio in 7393786513714367633_r23TEMP_MPY_wvf_snd.mp3\n"
     ]
    },
    {
     "name": "stderr",
     "output_type": "stream",
     "text": [
      "                                                        \r"
     ]
    },
    {
     "name": "stdout",
     "output_type": "stream",
     "text": [
      "MoviePy - Done.\n",
      "Moviepy - Writing video ../downloads/new_resized/7393786513714367633_r23.mp4\n",
      "\n"
     ]
    },
    {
     "name": "stderr",
     "output_type": "stream",
     "text": [
      "                                                              \r"
     ]
    },
    {
     "name": "stdout",
     "output_type": "stream",
     "text": [
      "Moviepy - Done !\n",
      "Moviepy - video ready ../downloads/new_resized/7393786513714367633_r23.mp4\n",
      "Clip (24, 25)\n",
      "Clip 24 11.86\n",
      "Moviepy - Building video ../downloads/new_resized/7393786513714367633_r24.mp4.\n",
      "MoviePy - Writing audio in 7393786513714367633_r24TEMP_MPY_wvf_snd.mp3\n"
     ]
    },
    {
     "name": "stderr",
     "output_type": "stream",
     "text": [
      "                                                        \r"
     ]
    },
    {
     "name": "stdout",
     "output_type": "stream",
     "text": [
      "MoviePy - Done.\n",
      "Moviepy - Writing video ../downloads/new_resized/7393786513714367633_r24.mp4\n",
      "\n"
     ]
    },
    {
     "name": "stderr",
     "output_type": "stream",
     "text": [
      "                                                              \r"
     ]
    },
    {
     "name": "stdout",
     "output_type": "stream",
     "text": [
      "Moviepy - Done !\n",
      "Moviepy - video ready ../downloads/new_resized/7393786513714367633_r24.mp4\n",
      "Done\n"
     ]
    }
   ],
   "source": [
    "# Resize one video, split into multiple clips\n",
    "path = \"../downloads/test\"\n",
    "save_path = f\"../downloads/new_resized\"\n",
    "f = '7393786513714367633.mp4'\n",
    "classes = list_files(path)\n",
    "new_height = 360\n",
    "start_time = 0\n",
    "\n",
    "resize_video(directory=path,\n",
    "                class_name=\"Family\",\n",
    "                file_name=f,\n",
    "                height=new_height,\n",
    "                start=start_time,\n",
    "                save_path=save_path,\n",
    "                multiple=True)"
   ]
  },
  {
   "cell_type": "markdown",
   "metadata": {},
   "source": [
    "## Refereneces\n",
    "\n",
    "https://stackoverflow.com/questions/28361056/how-to-resize-a-video-clip-in-python\n"
   ]
  }
 ],
 "metadata": {
  "kernelspec": {
   "display_name": "base",
   "language": "python",
   "name": "python3"
  },
  "language_info": {
   "codemirror_mode": {
    "name": "ipython",
    "version": 3
   },
   "file_extension": ".py",
   "mimetype": "text/x-python",
   "name": "python",
   "nbconvert_exporter": "python",
   "pygments_lexer": "ipython3",
   "version": "3.12.4"
  }
 },
 "nbformat": 4,
 "nbformat_minor": 2
}
