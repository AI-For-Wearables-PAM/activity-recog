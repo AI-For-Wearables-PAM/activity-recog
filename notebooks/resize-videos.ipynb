{
 "cells": [
  {
   "cell_type": "markdown",
   "metadata": {},
   "source": [
    "# Resize videos "
   ]
  },
  {
   "cell_type": "code",
   "execution_count": 23,
   "metadata": {},
   "outputs": [],
   "source": [
    "import os\n",
    "from moviepy.editor import VideoFileClip\n",
    "import numpy as np"
   ]
  },
  {
   "cell_type": "code",
   "execution_count": 12,
   "metadata": {},
   "outputs": [],
   "source": [
    "# List files and ignore .DS_Store if on a Mac\n",
    "def list_files(directory):\n",
    "    visible_files = []\n",
    "    for file in os.listdir(directory):\n",
    "        if not file.startswith('.'):\n",
    "            visible_files.append(file)\n",
    "\n",
    "    return visible_files"
   ]
  },
  {
   "cell_type": "code",
   "execution_count": null,
   "metadata": {},
   "outputs": [],
   "source": [
    "# Create new clip\n",
    "clip = VideoFileClip(\"myvideo.mp4\")\n",
    "duration = clip.duration\n",
    "\n",
    "# Resize and trim length\n",
    "clip_resized = clip.resize(height=360).subclip(0,5)\n",
    "\n",
    "clip_resized.duration"
   ]
  },
  {
   "cell_type": "code",
   "execution_count": 17,
   "metadata": {},
   "outputs": [],
   "source": [
    "# Iterate through a directory of videos\n",
    "dir = \"./Asleep-Trying to sleep\"\n",
    "files = list_files(dir)\n",
    "durations = []\n",
    "\n",
    "for file in files:\n",
    "    clip = VideoFileClip(f'{dir}/{file}')\n",
    "    dur = clip.duration\n",
    "    durations.append(dur)"
   ]
  },
  {
   "cell_type": "code",
   "execution_count": null,
   "metadata": {},
   "outputs": [],
   "source": [
    "# Get duration details\n",
    "min_dur = np.min(durations)\n",
    "max_dur = np.max(durations)\n",
    "avg_dur = np.mean(durations)\n",
    "\n",
    "print(f\"Min: {min_dur} \\nMax: {max_dur} \\nAvg: {avg_dur}\")\n",
    "\n",
    "# Resize and save new clips\n",
    "for file in files:\n",
    "    clip = VideoFileClip(f'{dir}/{file}')\n",
    "    dur = clip.duration\n",
    "    new_dur = 5\n",
    "    if dur == min_dur:\n",
    "        new_dur = dur\n",
    "\n",
    "    clip_resized = clip.resize(height=360).subclip(0,new_dur)\n",
    "\n",
    "    # Save resized video, r = resized\n",
    "    clip_resized.write_videofile(f\"./copies/{file}_r.mp4\")\n",
    "    clip_resized.close()"
   ]
  },
  {
   "cell_type": "markdown",
   "metadata": {},
   "source": [
    "## Refereneces\n",
    "\n",
    "https://stackoverflow.com/questions/28361056/how-to-resize-a-video-clip-in-python\n"
   ]
  }
 ],
 "metadata": {
  "kernelspec": {
   "display_name": "base",
   "language": "python",
   "name": "python3"
  },
  "language_info": {
   "codemirror_mode": {
    "name": "ipython",
    "version": 3
   },
   "file_extension": ".py",
   "mimetype": "text/x-python",
   "name": "python",
   "nbconvert_exporter": "python",
   "pygments_lexer": "ipython3",
   "version": "3.11.5"
  }
 },
 "nbformat": 4,
 "nbformat_minor": 2
}
