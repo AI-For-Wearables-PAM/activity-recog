{
 "cells": [
  {
   "cell_type": "markdown",
   "metadata": {},
   "source": [
    "# Resize videos "
   ]
  },
  {
   "cell_type": "code",
   "execution_count": 1,
   "metadata": {},
   "outputs": [],
   "source": [
    "import os\n",
    "from moviepy.editor import *\n",
    "import numpy as np"
   ]
  },
  {
   "cell_type": "code",
   "execution_count": 2,
   "metadata": {},
   "outputs": [],
   "source": [
    "# List files and ignore .DS_Store if on a Mac\n",
    "def list_files(directory):\n",
    "    visible_files = []\n",
    "    for file in os.listdir(directory):\n",
    "        if not file.startswith('.'):\n",
    "            visible_files.append(file)\n",
    "\n",
    "    return visible_files"
   ]
  },
  {
   "cell_type": "code",
   "execution_count": null,
   "metadata": {},
   "outputs": [],
   "source": [
    "# Iterate through a directory (only one example directory here)\n",
    "# dir = \"../downloads/test/Asleep-Trying to sleep\"\n",
    "dir = \"../downloads/train/\"\n",
    "classes = list_files(dir)\n",
    "\n",
    "# Resize and save new clips\n",
    "for c in classes:\n",
    "    files = list_files(f\"{dir}/{c}\")\n",
    "    class_name = c\n",
    "    print(class_name)\n",
    "    for f in files:\n",
    "        try:\n",
    "            # Create new clip\n",
    "            filename = f[:-4]\n",
    "            clip = VideoFileClip(f'{dir}/{class_name}/{f}')\n",
    "\n",
    "            # Make 5-second clips\n",
    "            min_duration = 5\n",
    "            dur = clip.duration\n",
    "\n",
    "            if dur <= min_duration:\n",
    "                min_dur = dur\n",
    "\n",
    "            clip_resized = clip.resize(height=360).subclip(0, min_duration)\n",
    "\n",
    "            # Save resized video, r = resized\n",
    "            clip_resized.write_videofile(f\"../downloads/copies/{class_name}/{filename}_r.mp4\")\n",
    "            clip_resized.close()\n",
    "\n",
    "            del clip.reader\n",
    "            del clip\n",
    "            \n",
    "        except Exception as e:\n",
    "            print(e)"
   ]
  },
  {
   "cell_type": "markdown",
   "metadata": {},
   "source": [
    "Did not process video 7393750354384702609.mp4"
   ]
  },
  {
   "cell_type": "markdown",
   "metadata": {},
   "source": [
    "## Refereneces\n",
    "\n",
    "https://stackoverflow.com/questions/28361056/how-to-resize-a-video-clip-in-python\n"
   ]
  }
 ],
 "metadata": {
  "kernelspec": {
   "display_name": "base",
   "language": "python",
   "name": "python3"
  },
  "language_info": {
   "codemirror_mode": {
    "name": "ipython",
    "version": 3
   },
   "file_extension": ".py",
   "mimetype": "text/x-python",
   "name": "python",
   "nbconvert_exporter": "python",
   "pygments_lexer": "ipython3",
   "version": "3.11.5"
  }
 },
 "nbformat": 4,
 "nbformat_minor": 2
}
